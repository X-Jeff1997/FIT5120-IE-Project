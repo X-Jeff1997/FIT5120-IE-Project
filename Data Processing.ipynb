{
 "cells": [
  {
   "cell_type": "code",
   "execution_count": 30,
   "id": "60b4c055",
   "metadata": {},
   "outputs": [],
   "source": [
    "# Import SparkConf class into program\n",
    "from pyspark import SparkConf\n",
    "\n",
    "# local[*]: run Spark in local mode with as many working processors as logical cores on your machine\n",
    "# If we want Spark to run locally with 'k' worker threads, we can specify as \"local[k]\".\n",
    "master = \"local[*]\"\n",
    "# The `appName` field is a name to be shown on the Spark cluster UI page\n",
    "app_name = \"Data processing\"\n",
    "# Setup configuration parameters for Spark\n",
    "spark_conf = SparkConf().setMaster(master).setAppName(app_name)\n",
    "\n",
    "# Import SparkContext and SparkSession classes\n",
    "from pyspark import SparkContext # Spark\n",
    "from pyspark.sql import SparkSession # Spark SQL\n",
    "\n",
    "# Method 1: Using SparkSession\n",
    "spark = SparkSession.builder.config(conf=spark_conf).getOrCreate()\n",
    "sc = spark.sparkContext\n",
    "sc.setLogLevel('ERROR')"
   ]
  },
  {
   "cell_type": "code",
   "execution_count": 31,
   "id": "778b770d",
   "metadata": {},
   "outputs": [],
   "source": [
    "# read files\n",
    "df_node = spark.read.csv(\"NODE.csv\",header=True).repartition(4)\n",
    "df_loc = spark.read.csv(\"ACCIDENT_LOCATION.csv\",header=True).repartition(4)\n",
    "df_events = spark.read.csv(\"ACCIDENT_EVENT.csv\",header=True).repartition(4)\n"
   ]
  },
  {
   "cell_type": "code",
   "execution_count": 32,
   "id": "161d1287",
   "metadata": {},
   "outputs": [],
   "source": [
    "# Join node and location\n",
    "df_loc = df_loc.withColumnRenamed(\"ACCIDENT_NO\",\"id\")\n",
    "df_temp = df_node.join(df_loc,df_node.ACCIDENT_NO==df_loc.id)\n",
    "df_temp = df_temp.drop(\"id\")"
   ]
  },
  {
   "cell_type": "code",
   "execution_count": 33,
   "id": "318af1d1",
   "metadata": {},
   "outputs": [
    {
     "name": "stderr",
     "output_type": "stream",
     "text": [
      "[Stage 74:>                                                         (0 + 3) / 3]\r"
     ]
    },
    {
     "name": "stdout",
     "output_type": "stream",
     "text": [
      "+------------+-----------+------------+-----------+-----------+----------+---------+------------+--------------------+\n",
      "| ACCIDENT_NO|   LGA_NAME|         Lat|       Long|POSTCODE_NO| ROAD_NAME|ROAD_TYPE|          id|     Event Type Desc|\n",
      "+------------+-----------+------------+-----------+-----------+----------+---------+------------+--------------------+\n",
      "|T20090026133|STONNINGTON|-37.85465868|145.0522587|       3146|   MALVERN|     ROAD|T20090026133|           Collision|\n",
      "|T20160001873|    BANYULE|-37.68677281|145.1429409|       3089|     RYANS|     ROAD|T20160001873|           Collision|\n",
      "|T20090026994|    WYNDHAM|-37.88485681|144.7002177|       3030|   PRINCES|  HIGHWAY|T20090026994|           Collision|\n",
      "|T20170024322|  GLEN EIRA|-37.90751665|145.0690223|       3163|     NORTH|     ROAD|T20170024322|           Collision|\n",
      "|T20150026265| SHEPPARTON|-36.37758557|145.4318101|       3631|    DOYLES|     ROAD|T20150026265|           Collision|\n",
      "|T20160028004|    BAW BAW|-38.16140618| 145.978554|       3821|BLOOMFIELD|     ROAD|T20160028004|           Collision|\n",
      "|T20160028004|    BAW BAW|-38.16140618| 145.978554|       3821|BLOOMFIELD|     ROAD|T20160028004| Ran off carriageway|\n",
      "|T20160028004|    BAW BAW|-38.16140618| 145.978554|       3821|BLOOMFIELD|     ROAD|T20160028004|           Collision|\n",
      "|T20160028004|    BAW BAW|-38.16140618| 145.978554|       3821|BLOOMFIELD|     ROAD|T20160028004|Rollover on/off c...|\n",
      "|T20160028004|    BAW BAW|-38.16140618| 145.978554|       3821|BLOOMFIELD|     ROAD|T20160028004| Ran off carriageway|\n",
      "+------------+-----------+------------+-----------+-----------+----------+---------+------------+--------------------+\n",
      "only showing top 10 rows\n",
      "\n"
     ]
    },
    {
     "name": "stderr",
     "output_type": "stream",
     "text": [
      "\r",
      "                                                                                \r"
     ]
    }
   ],
   "source": [
    "# Join temp and events\n",
    "df_events = df_events.withColumnRenamed(\"ACCIDENT_NO\",\"id\")\n",
    "df_t = df_temp.join(df_events,df_temp.ACCIDENT_NO==df_events.id)\n",
    "df_t.show(10)"
   ]
  },
  {
   "cell_type": "code",
   "execution_count": 28,
   "id": "44e3f36c",
   "metadata": {},
   "outputs": [
    {
     "name": "stderr",
     "output_type": "stream",
     "text": [
      "                                                                                \r"
     ]
    },
    {
     "name": "stdout",
     "output_type": "stream",
     "text": [
      "+------------+----+------------+------------+-----------+-------------------+--------------------+---------+-----------+\n",
      "| ACCIDENT_NO|Year|        Area|         Lat|       Long|    Event Type Desc|           ROAD_NAME|ROAD_TYPE|POSTCODE_NO|\n",
      "+------------+----+------------+------------+-----------+-------------------+--------------------+---------+-----------+\n",
      "|T20160012885|2016|  BOROONDARA|-37.86425636|145.0865011|          Collision|                HIGH|   STREET|       3147|\n",
      "|T20150023790|2015|     GEELONG|-38.20857249|144.3398647|          Collision|          SURF COAST|  HIGHWAY|       3216|\n",
      "|T20190007447|2019|  WHITTLESEA|-37.67874172|144.9992489|          Collision|              EDGARS|     ROAD|       3074|\n",
      "|T20160024678|2016|      MONASH|-37.87249794| 145.150876|          Collision|         HIGH STREET|     ROAD|       3150|\n",
      "|T20170021878|2017|        HUME|-37.69010132|144.8979313|          Collision|             CARRICK|    DRIVE|       3043|\n",
      "|T20180016385|2018| MARIBYRNONG| -37.8039785|144.8827977|          Collision|             GEELONG|     ROAD|       3012|\n",
      "|T20180009842|2018|  SHEPPARTON|-36.38833207|145.4318216|          Collision|BENALLA ROAD -MID...|  HIGHWAY|       3630|\n",
      "|T20200001479|2020|YARRA RANGES|-37.76128648|145.3104135|          Collision|           MAROONDAH|  HIGHWAY|       3116|\n",
      "|T20200001479|2020|YARRA RANGES|-37.76128648|145.3104135|          Collision|           MAROONDAH|  HIGHWAY|       3116|\n",
      "|T20200001479|2020|YARRA RANGES|-37.76128648|145.3104135|Ran off carriageway|           MAROONDAH|  HIGHWAY|       3116|\n",
      "+------------+----+------------+------------+-----------+-------------------+--------------------+---------+-----------+\n",
      "only showing top 10 rows\n",
      "\n"
     ]
    }
   ],
   "source": [
    "from pyspark.sql import functions as F\n",
    "from pyspark.sql.types import IntegerType\n",
    "\n",
    "df_data = df_t.select('ACCIDENT_NO',F.substring(df_t.id, 2, 4).alias('Year'),df_t.LGA_NAME.alias('Area'),'Lat','Long','Event Type Desc','ROAD_NAME','ROAD_TYPE','POSTCODE_NO')\n",
    "df_data.withColumn('Year',F.col('Year').cast(IntegerType()))\n",
    "df_data = df_data.select('ACCIDENT_NO','Year','Area','Lat','Long','Event Type Desc','ROAD_NAME','ROAD_TYPE','POSTCODE_NO').filter(df_data.Year>2014)\n",
    "\n",
    "df_data.show(10)\n"
   ]
  },
  {
   "cell_type": "code",
   "execution_count": 35,
   "id": "45ce5063",
   "metadata": {},
   "outputs": [
    {
     "name": "stderr",
     "output_type": "stream",
     "text": [
      "                                                                                \r"
     ]
    }
   ],
   "source": [
    "#write data to json file\n",
    "df_data.write \\\n",
    " .save(\"traffic_data.json\",format=\"json\")"
   ]
  },
  {
   "cell_type": "code",
   "execution_count": null,
   "id": "63ee41c2",
   "metadata": {},
   "outputs": [],
   "source": []
  }
 ],
 "metadata": {
  "kernelspec": {
   "display_name": "Python 3 (ipykernel)",
   "language": "python",
   "name": "python3"
  },
  "language_info": {
   "codemirror_mode": {
    "name": "ipython",
    "version": 3
   },
   "file_extension": ".py",
   "mimetype": "text/x-python",
   "name": "python",
   "nbconvert_exporter": "python",
   "pygments_lexer": "ipython3",
   "version": "3.9.6"
  }
 },
 "nbformat": 4,
 "nbformat_minor": 5
}
